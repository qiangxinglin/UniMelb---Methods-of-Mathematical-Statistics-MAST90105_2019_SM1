{
  "nbformat": 4,
  "nbformat_minor": 0,
  "metadata": {
    "colab": {
      "name": "Assignment4.ipynb",
      "version": "0.3.2",
      "provenance": [],
      "collapsed_sections": [],
      "include_colab_link": true
    },
    "language_info": {
      "codemirror_mode": "r",
      "file_extension": ".r",
      "mimetype": "text/x-r-source",
      "name": "R",
      "pygments_lexer": "r",
      "version": "3.3.1"
    },
    "kernelspec": {
      "display_name": "R",
      "language": "R",
      "name": "ir"
    },
    "accelerator": "GPU"
  },
  "cells": [
    {
      "cell_type": "markdown",
      "metadata": {
        "id": "view-in-github",
        "colab_type": "text"
      },
      "source": [
        "<a href=\"https://colab.research.google.com/github/Data-Science-and-Data-Analytics-Courses/UniMelb---Methods-of-Mathematical-Statistics-MAST90105_2019_SM1/blob/master/Assignment%204/Assignment4.ipynb\" target=\"_parent\"><img src=\"https://colab.research.google.com/assets/colab-badge.svg\" alt=\"Open In Colab\"/></a>"
      ]
    },
    {
      "cell_type": "markdown",
      "metadata": {
        "id": "C8-el4OmLfAL",
        "colab_type": "text"
      },
      "source": [
        "# Assignment 4  \n",
        "Vinh Nguyen (1029531)  \n",
        "\n",
        "---\n",
        "\n"
      ]
    },
    {
      "cell_type": "markdown",
      "metadata": {
        "id": "CMwBs4mpPQco",
        "colab_type": "text"
      },
      "source": [
        "## Problem 1.  \n",
        "Carbon monoxide concentrations (in µg/m3\n",
        ") are measured on 6 different days in city\n",
        "A and on 4 different days in city B. The following measurements have been obtained\n",
        "in cities A and B, respectively: 3.9, 4.7, 7.1, 6.9, 4.3, 6.3 and 7.3, 6.9, 7.6, 9.1. We\n",
        "assume that these two samples are independent.  \n",
        "(a) Assume that both samples are from normally distributed populations. We also\n",
        "assume that the same type of measurement device was used in both cities so that\n",
        "the measurement error (variance) is the same for both samples. Construct the\n",
        "95% confidence interval for δ = µA−µB where µA and µB are mean concentrations\n",
        "of carbon monoxide in cities A and B, respectively.  \n",
        "\n",
        "Let $X_1, X_2, \\dots , X_6$: monoxide concentrations (in µg/m3\n",
        ") are measured on 6 different days in city A; $\\overline{X}$: sample mean in A  \n",
        "$Y_1, Y_2, \\dots , Y_4$: monoxide concentrations (in µg/m3\n",
        ") are measured on 4 different days in city B; $\\overline{Y}$: sample mean in B  \n",
        "Estimator for δ = µA−µB:  \n",
        "$$\n",
        "\\begin{align}\n",
        "\\hat{\\Delta} &= \\overline{X} - \\overline{Y} \\sim N(\\mu_\\hat{\\Delta}, \\sigma^2_\\hat{\\Delta}) \\\\\n",
        "\\end{align}\n",
        "$$\n",
        "where $\\overline{X}, \\overline{Y}$ normally distributed ($X_i, Y_i$ normal)  \n",
        "$$\n",
        "\\begin{align}\n",
        "\\mu_\\hat{\\Delta} &= E(\\overline{X} - \\overline{Y}) \\\\\n",
        "&= E(\\overline{X}) - E(\\overline{Y}) \\\\\n",
        "&= \\mu_A - \\mu_B \\\\\n",
        "\\sigma^2_\\hat{\\Delta} &= var(\\overline{X} - \\overline{Y}) \\\\\n",
        "&= var(\\overline{X}) + var(\\overline{Y}) \\\\\n",
        "&= \\frac{1}{6}\\sigma^2 + \\frac{1}{4}\\sigma^2 \\\\\n",
        "&= \\bigg(\\frac{1}{6} + \\frac{1}{4}\\bigg)\\sigma^2 \\quad (\\sigma^2 = var(X_i) = var(Y_i)) \\\\\n",
        "\\end{align}\n",
        "$$\n",
        "$$\n",
        "\\begin{align}\n",
        "\\hat{\\Delta} &\\sim N\\bigg(\\mu_A - \\mu_B, \\bigg(\\frac{1}{6} + \\frac{1}{4}\\bigg)\\sigma^2\\bigg) \\\\\n",
        "\\end{align}\n",
        "$$\n",
        "Standard normal variable:  \n",
        "$$\n",
        "\\begin{align}\n",
        "Z = \\frac{\\hat{\\Delta} - (\\mu_A - \\mu_B)}{\\sqrt{\\bigg(\\frac{1}{6} + \\frac{1}{4}\\bigg)\\sigma^2}} &\\sim N(0, 1) \\\\\n",
        "\\end{align}\n",
        "$$\n",
        "Chi-squared variable:  \n",
        "$$\n",
        "\\begin{align}\n",
        "U = 5\\frac{S_X}{\\sigma^2} + 3\\frac{S_Y}{\\sigma^2} &\\sim \\chi^2_8 \\\\\n",
        "\\end{align}\n",
        "$$\n",
        "where $S_X, S_Y$ are sample variances in cities A and B respectively.  \n",
        "Student's t-distribution:  \n",
        "$$\n",
        "\\begin{align}\n",
        "T &= \\frac{Z}{\\sqrt{\\frac{U}{8}}} \\\\\n",
        "&= \\frac{\\frac{\\hat{\\Delta} - (\\mu_A - \\mu_B)}{\\sqrt{\\big(\\frac{1}{6} + \\frac{1}{4}\\big)\\sigma^2}}}{\\sqrt{\\frac{5\\frac{S_X}{\\sigma^2} + 3\\frac{S_Y}{\\sigma^2}}{8}}} \\\\\n",
        "&= \\frac{\\hat{\\Delta} - (\\mu_A - \\mu_B)}{\\sqrt{\\frac{25}{96} S_X + \\frac{5}{32} S_Y}} \\sim t_8 \\\\\n",
        "\\end{align}\n",
        "$$\n",
        "**95% confidence interval**  \n",
        "$$\n",
        "\\begin{align}\n",
        "P(−t_0 ≤ T ≤ t_0) &= 0.95 \\\\\n",
        "P\\Bigg(−t_0 ≤ \\frac{\\hat{\\Delta} - (\\mu_A - \\mu_B)}{\\sqrt{\\frac{25}{96} S_X + \\frac{5}{32} S_Y}} ≤ t_0\\Bigg) &= 0.95 \\\\\n",
        "P\\Bigg(\\hat{\\Delta} - t_0 \\sqrt{\\frac{25}{96} S_X + \\frac{5}{32} S_Y} \\leq \\mu_A - \\mu_B \\leq \\hat{\\Delta} + t_0 \\sqrt{\\frac{25}{96} S_X + \\frac{5}{32} S_Y}\\Bigg) &= 0.95 \\\\\n",
        "\\end{align}\n",
        "$$\n",
        "$$\n",
        "\\begin{align}\n",
        "\\Rightarrow CI_{0.95} = \\Bigg[\\hat{\\Delta} - t_0 \\sqrt{\\frac{25}{96} S_X + \\frac{5}{32} S_Y}, \\hat{\\Delta} + t_0 \\sqrt{\\frac{25}{96} S_X + \\frac{5}{32} S_Y}\\Bigg] \\quad (\\hat{\\Delta} = \\overline{X} - \\overline{Y}, t_0 = q_{0.975}) \\\\\n",
        "\\end{align}\n",
        "$$\n"
      ]
    },
    {
      "cell_type": "code",
      "metadata": {
        "id": "tZDT2LStPPZh",
        "colab_type": "code",
        "outputId": "b81e86fa-69f5-4a0f-f5e7-4f8615651fe6",
        "colab": {
          "base_uri": "https://localhost:8080/",
          "height": 51
        }
      },
      "source": [
        "x <- c(3.9, 4.7, 7.1, 6.9, 4.3, 6.3)\n",
        "y <- c(7.3, 6.9, 7.6, 9.1)\n",
        "\n",
        "x_mean <- mean(x)\n",
        "y_mean <- mean(y)\n",
        "x_var <- var(x)\n",
        "y_var <- var(y)\n",
        "t0 <- qt(0.975, df=8)\n",
        "\n",
        "print(\"Observed confidence interval\")\n",
        "confint1 <- (x_mean - y_mean) + t0 * sqrt(25/96*x_var + 5/32*y_var) * c(-1, 1)\n",
        "print(confint1)"
      ],
      "execution_count": 0,
      "outputs": [
        {
          "output_type": "stream",
          "text": [
            "[1] \"Observed confidence interval\"\n",
            "[1] -4.0568378 -0.3264955\n"
          ],
          "name": "stdout"
        }
      ]
    },
    {
      "cell_type": "markdown",
      "metadata": {
        "id": "besfk4z4Pn0k",
        "colab_type": "text"
      },
      "source": [
        "(b) Do we reject H0 : δ = 0 in favor of H1 : δ 6= 0 at the 5% significance level? Why\n",
        "or why not? Find the p-value of this test.  \n",
        "\n",
        "**Reject H0 (0 outside of observed confidence interval)?**  \n"
      ]
    },
    {
      "cell_type": "code",
      "metadata": {
        "id": "nwK0Q_g8SRdO",
        "colab_type": "code",
        "outputId": "bf72d974-cc58-4252-d8dc-6000904ad24d",
        "colab": {
          "base_uri": "https://localhost:8080/",
          "height": 34
        }
      },
      "source": [
        "print(0 < confint1[1] | 0 > confint1[2])"
      ],
      "execution_count": 0,
      "outputs": [
        {
          "output_type": "stream",
          "text": [
            "[1] TRUE\n"
          ],
          "name": "stdout"
        }
      ]
    },
    {
      "cell_type": "markdown",
      "metadata": {
        "id": "aSwEimxcVvZ0",
        "colab_type": "text"
      },
      "source": [
        "Test statistic:  \n",
        "$$\n",
        "\\begin{align}\n",
        "T &= \\frac{\\hat{\\Delta} - (\\mu_A - \\mu_B)}{\\sqrt{\\frac{25}{96} S_X + \\frac{5}{32} S_Y}} \\sim t_8 \\\\\n",
        "\\end{align}\n",
        "$$\n",
        "**p-value**  \n",
        "$$\n",
        "\\begin{align}\n",
        "& P\\Bigg(|T| \\geq \\Bigg|\\frac{\\hat{\\delta}}{\\sqrt{\\frac{25}{96} s_X + \\frac{5}{32} s_Y}}\\Bigg| \\ |\\ \\mu_A - \\mu_B = 0\\Bigg) \\\\\n",
        "& 2P\\Bigg(T \\geq \\Bigg|\\frac{\\hat{\\delta}}{\\sqrt{\\frac{25}{96} s_X + \\frac{5}{32} s_Y}}\\Bigg| \\ |\\ \\mu_A - \\mu_B = 0\\Bigg) \\quad (T \\sim t_8, \\hat{\\delta} = \\overline{x} - \\overline{y}) \\\\\n",
        "\\end{align}\n",
        "$$\n"
      ]
    },
    {
      "cell_type": "code",
      "metadata": {
        "id": "mjwGod2JWEys",
        "colab_type": "code",
        "outputId": "dea7a046-3872-406d-d665-099c768f2752",
        "colab": {
          "base_uri": "https://localhost:8080/",
          "height": 85
        }
      },
      "source": [
        "print(\"t-statistic\")\n",
        "t_stat <- (x_mean - y_mean) / sqrt(25/96*x_var + 5/32*y_var) # test statistic\n",
        "print(t_stat)\n",
        "\n",
        "print(\"p-value\")\n",
        "p_val <- 2 * pt(abs(t_stat), df=8, lower.tail = FALSE)\n",
        "print(p_val)"
      ],
      "execution_count": 0,
      "outputs": [
        {
          "output_type": "stream",
          "text": [
            "[1] \"t-statistic\"\n",
            "[1] -2.709667\n",
            "[1] \"p-value\"\n",
            "[1] 0.02667185\n"
          ],
          "name": "stdout"
        }
      ]
    },
    {
      "cell_type": "markdown",
      "metadata": {
        "id": "zjeR5XL_SUsx",
        "colab_type": "text"
      },
      "source": [
        "(c) Now assume that both samples are from normally distributed populations, as\n",
        "before, but two different measurement devices were used and their measurements\n",
        "errors are known. We assume that the variances are 2 and 1, respectively, for the\n",
        "two samples. Construct the 95% confidence interval for δ.  \n",
        "\n",
        "Recall estimator for δ = µA−µB:  \n",
        "$$\n",
        "\\begin{align}\n",
        "\\hat{\\Delta} &= \\overline{X} - \\overline{Y} \\sim N(\\mu_\\hat{\\Delta}, \\sigma^2_\\hat{\\Delta}) \\\\\n",
        "\\end{align}\n",
        "$$\n",
        "where $\\overline{X}, \\overline{Y}$ normally distributed ($X_i, Y_i$ normal)  \n",
        "$$\n",
        "\\begin{align}\n",
        "\\mu_\\hat{\\Delta} &= \\mu_A - \\mu_B \\\\\n",
        "\\sigma^2_\\hat{\\Delta} &= var(\\overline{X} - \\overline{Y}) \\\\\n",
        "&= var(\\overline{X}) + var(\\overline{Y}) \\\\\n",
        "&= \\frac{1}{6}\\sigma_X^2 + \\frac{1}{4}\\sigma_Y^2 \\\\\n",
        "\\end{align}\n",
        "$$\n",
        "$$\n",
        "\\begin{align}\n",
        "\\hat{\\Delta} &= \\overline{X} - \\overline{Y} \\sim N(\\mu_A - \\mu_B, \\frac{1}{6}\\sigma_X^2 + \\frac{1}{4}\\sigma_Y^2) \\\\\n",
        "\\end{align}\n",
        "$$\n",
        "Standard normal variable:  \n",
        "$$\n",
        "\\begin{align}\n",
        "Z = \\frac{\\hat{\\Delta} - (\\mu_A - \\mu_B)}{\\sqrt{\\frac{1}{6}\\sigma_X^2 + \\frac{1}{4}\\sigma_Y^2}} &\\sim N(0, 1) \\\\\n",
        "\\end{align}\n",
        "$$\n",
        "**95% confidence interval**  \n",
        "$$\n",
        "\\begin{align}\n",
        "P\\Bigg(lb \\leq Z = \\frac{\\hat{\\Delta} - (\\mu_A - \\mu_B)}{\\sqrt{\\frac{1}{6}\\sigma_X^2 + \\frac{1}{4}\\sigma_Y^2}} \\leq ub\\Bigg) = 0.95 \\\\\n",
        "P\\Bigg(-z_{0.025} \\leq Z = \\frac{\\hat{\\Delta} - (\\mu_A - \\mu_B)}{\\sqrt{\\frac{1}{6}\\sigma_X^2 + \\frac{1}{4}\\sigma_Y^2}} \\leq z_{0.025}\\Bigg) = 0.95 \\\\\n",
        "\\Rightarrow CI_{0.95} = \\Bigg[\\hat{\\Delta} - z_{0.025} \\sqrt{\\frac{1}{6}\\sigma_X^2 + \\frac{1}{4}\\sigma_Y^2}, \\hat{\\Delta} + z_{0.025} \\sqrt{\\frac{1}{6}\\sigma_X^2 + \\frac{1}{4}\\sigma_Y^2}\\Bigg] \\quad (\\hat{\\Delta} &= \\overline{X} - \\overline{Y}) \\\\\n",
        "\\end{align}\n",
        "$$\n"
      ]
    },
    {
      "cell_type": "code",
      "metadata": {
        "id": "UBhCyqTsVYIt",
        "colab_type": "code",
        "outputId": "119a6068-c954-43d0-90b0-3ed1705a1a2d",
        "colab": {
          "base_uri": "https://localhost:8080/",
          "height": 51
        }
      },
      "source": [
        "print(\"Observed confidence interval\")\n",
        "confint2 <- (x_mean - y_mean) + qnorm(1-0.025) * sqrt(1/6*2 + 1/4*1) * c(-1, 1)\n",
        "print(confint2)"
      ],
      "execution_count": 0,
      "outputs": [
        {
          "output_type": "stream",
          "text": [
            "[1] \"Observed confidence interval\"\n",
            "[1] -3.6886139 -0.6947194\n"
          ],
          "name": "stdout"
        }
      ]
    },
    {
      "cell_type": "markdown",
      "metadata": {
        "id": "LlhblhPgVYpd",
        "colab_type": "text"
      },
      "source": [
        "(d) Compare confidence intervals you obtained in (a) and (c). Which one is narrower?\n",
        "Briefly explain why.  \n",
        "\n",
        "**Narrower CI**  \n"
      ]
    },
    {
      "cell_type": "code",
      "metadata": {
        "id": "zg0zgAacVfC8",
        "colab_type": "code",
        "outputId": "3fc681f9-42f4-4ac6-f992-163b4f04919d",
        "colab": {
          "base_uri": "https://localhost:8080/",
          "height": 34
        }
      },
      "source": [
        "conf_span1 <- confint1[2] - confint1[1] # CI in (a)\n",
        "conf_span2 <- confint2[2] - confint2[1] # CI in (c)\n",
        "if (conf_span1 < conf_span2) print(\"CI in (a)\") else print(\"CI in (c)\")"
      ],
      "execution_count": 0,
      "outputs": [
        {
          "output_type": "stream",
          "text": [
            "[1] \"CI in (c)\"\n"
          ],
          "name": "stdout"
        }
      ]
    },
    {
      "cell_type": "markdown",
      "metadata": {
        "id": "_VyG2maJZlHP",
        "colab_type": "text"
      },
      "source": [
        "This is due to the fact that the approach in (a) employs more approximation (via the use of t-distribution), hence the resulted greater uncertainty (larger span) in the confidence interval. Concretely, t-distribution has thicker tails than normal distribution, resulting in t-quantile > normal quantile for same confidence level 95% ($t_0 > z_{0.025}$), thus t-approximation CI (a) tends to be wider than known-variance CI (c).  \n"
      ]
    },
    {
      "cell_type": "markdown",
      "metadata": {
        "id": "leYoLvowVfZi",
        "colab_type": "text"
      },
      "source": [
        "(e) Show that (3.9, 7.1) is an approximate 97% confidence interval for the median\n",
        "concentration of carbon monoxide in city A.  \n",
        "\n",
        "Sort measurements in city A:  \n"
      ]
    },
    {
      "cell_type": "code",
      "metadata": {
        "id": "MQzqzaVYViB9",
        "colab_type": "code",
        "outputId": "71e9a177-14e0-49bd-d284-aa10adf333e1",
        "colab": {
          "base_uri": "https://localhost:8080/",
          "height": 34
        }
      },
      "source": [
        "x_sorted <- sort(x)\n",
        "print(x_sorted)"
      ],
      "execution_count": 0,
      "outputs": [
        {
          "output_type": "stream",
          "text": [
            "[1] 3.9 4.3 4.7 6.3 6.9 7.1\n"
          ],
          "name": "stdout"
        }
      ]
    },
    {
      "cell_type": "markdown",
      "metadata": {
        "id": "Hcy_8kyhac6O",
        "colab_type": "text"
      },
      "source": [
        "Order statistics of confidence interval:  \n"
      ]
    },
    {
      "cell_type": "code",
      "metadata": {
        "id": "EXNUPnJVafZw",
        "colab_type": "code",
        "outputId": "acf5fc17-1d38-4d56-e9c4-f7c8dfd13bc6",
        "colab": {
          "base_uri": "https://localhost:8080/",
          "height": 34
        }
      },
      "source": [
        "orders <- match(c(3.9, 7.1), x_sorted)\n",
        "print(orders)"
      ],
      "execution_count": 0,
      "outputs": [
        {
          "output_type": "stream",
          "text": [
            "[1] 1 6\n"
          ],
          "name": "stdout"
        }
      ]
    },
    {
      "cell_type": "markdown",
      "metadata": {
        "id": "dYp3Uv7yasGF",
        "colab_type": "text"
      },
      "source": [
        "Let W: number of $X_{(i)} \\leq m \\Rightarrow W \\sim Bi(n=6, p=0.5)$  \n",
        "**Confidence level**  \n"
      ]
    },
    {
      "cell_type": "code",
      "metadata": {
        "id": "BS73rOjVawVU",
        "colab_type": "code",
        "outputId": "878f61ae-afb3-4114-f907-eed8286801ce",
        "colab": {
          "base_uri": "https://localhost:8080/",
          "height": 68
        }
      },
      "source": [
        "sprintf(\"P(X(%s) <= m <= X(%s))\", orders[1], orders[2])\n",
        "sprintf(\"P(%s <= W <= %s)\", orders[1], orders[2]-1)\n",
        "print(pbinom(orders[2]-1, size=6, prob=0.5) - pbinom(orders[1]-1, size=6, prob=0.5))"
      ],
      "execution_count": 0,
      "outputs": [
        {
          "output_type": "display_data",
          "data": {
            "text/plain": [
              "[1] \"P(X(1) <= m <= X(6))\""
            ],
            "text/latex": "'P(X(1) <= m <= X(6))'",
            "text/markdown": "'P(X(1) &lt;= m &lt;= X(6))'",
            "text/html": [
              "'P(X(1) &lt;= m &lt;= X(6))'"
            ]
          },
          "metadata": {
            "tags": []
          }
        },
        {
          "output_type": "display_data",
          "data": {
            "text/plain": [
              "[1] \"P(1 <= W <= 5)\""
            ],
            "text/latex": "'P(1 <= W <= 5)'",
            "text/markdown": "'P(1 &lt;= W &lt;= 5)'",
            "text/html": [
              "'P(1 &lt;= W &lt;= 5)'"
            ]
          },
          "metadata": {
            "tags": []
          }
        },
        {
          "output_type": "stream",
          "text": [
            "[1] 0.96875\n"
          ],
          "name": "stdout"
        }
      ]
    },
    {
      "cell_type": "markdown",
      "metadata": {
        "id": "9ycPsLz9dPrU",
        "colab_type": "text"
      },
      "source": [
        "## Problem 2.  \n",
        "Let X1, X2, . . . , X10 be a sample of size 10 from an exponential distribution with the\n",
        "density function\n",
        "f(x; λ) = (\n",
        "λe−λx, x > 0,\n",
        "0, otherwise.\n",
        "We reject H0 : λ = 1 in favor of H1 : λ = 2 if the observed value of Y =\n",
        "P10\n",
        "i=1 Xi\n",
        "is\n",
        "smaller than 6.  \n",
        "(a) Find the probability of type 1 error for this test.  \n",
        "\n",
        "$$\n",
        "\\begin{align}\n",
        "Y = \\sum_{i=1}^{10}X_i \\sim Gamma(\\alpha=10, \\beta=\\lambda) \\\\\n",
        "\\end{align}\n",
        "$$\n",
        "**Type 1 error**  \n",
        "$$\n",
        "\\begin{align}\n",
        "P(Y < 6|λ = 1) \\\\\n",
        "\\end{align}\n",
        "$$\n"
      ]
    },
    {
      "cell_type": "code",
      "metadata": {
        "id": "xjufXnVzdcmK",
        "colab_type": "code",
        "outputId": "9fdc9a2a-1d1a-4b83-da3f-59c142e421a5",
        "colab": {
          "base_uri": "https://localhost:8080/",
          "height": 34
        }
      },
      "source": [
        "type1 <- pgamma(6, shape=10, rate = 1)\n",
        "print(type1)"
      ],
      "execution_count": 0,
      "outputs": [
        {
          "output_type": "stream",
          "text": [
            "[1] 0.08392402\n"
          ],
          "name": "stdout"
        }
      ]
    },
    {
      "cell_type": "markdown",
      "metadata": {
        "id": "EXyUmdQ8dczn",
        "colab_type": "text"
      },
      "source": [
        "(b) Find the probability of type 2 error for this test.  \n",
        "\n",
        "**Type 2 error**  \n",
        "$$\n",
        "\\begin{align}\n",
        "P(Y \\geq 6|λ = 2) \\\\\n",
        "\\end{align}\n",
        "$$\n"
      ]
    },
    {
      "cell_type": "code",
      "metadata": {
        "id": "z0Z6qLIFde92",
        "colab_type": "code",
        "outputId": "57f8f8d4-d8d1-424a-fb6d-ef73f050563f",
        "colab": {
          "base_uri": "https://localhost:8080/",
          "height": 34
        }
      },
      "source": [
        "type2 <- pgamma(6, shape=10, rate = 2, lower.tail = FALSE)\n",
        "print(type2)"
      ],
      "execution_count": 0,
      "outputs": [
        {
          "output_type": "stream",
          "text": [
            "[1] 0.2423922\n"
          ],
          "name": "stdout"
        }
      ]
    },
    {
      "cell_type": "markdown",
      "metadata": {
        "id": "r0wRumLjdfKi",
        "colab_type": "text"
      },
      "source": [
        "(c) Let y = 5 be the observed value of Y . Find the p-value for this test.  \n",
        "\n",
        "**p-value**  \n",
        "$$\n",
        "\\begin{align}\n",
        "P(Y < 5|λ = 1) \\\\\n",
        "\\end{align}\n",
        "$$\n"
      ]
    },
    {
      "cell_type": "code",
      "metadata": {
        "id": "Zf8JlR_jdnCy",
        "colab_type": "code",
        "outputId": "57dd65e8-eb0f-41da-cfd7-b96325977e73",
        "colab": {
          "base_uri": "https://localhost:8080/",
          "height": 34
        }
      },
      "source": [
        "print(pgamma(5, shape=10, rate = 1))"
      ],
      "execution_count": 0,
      "outputs": [
        {
          "output_type": "stream",
          "text": [
            "[1] 0.03182806\n"
          ],
          "name": "stdout"
        }
      ]
    },
    {
      "cell_type": "markdown",
      "metadata": {
        "id": "zVHpQkUDdnO5",
        "colab_type": "text"
      },
      "source": [
        "(d) Let y = 5 be the observed value of Y . Construct the exact 95% confidence interval\n",
        "for λ. Hint: λY ∼ Gamma(10, 1).  \n",
        "\n",
        "Pivot  \n",
        "$$\n",
        "\\begin{align}\n",
        "λY ∼ Gamma(\\alpha=10, \\beta=1) \\\\\n",
        "\\end{align}\n",
        "$$\n",
        "**95% confidence interval**  \n",
        "$$\n",
        "\\begin{align}\n",
        "P(q_{0.05} \\leq λY < \\infty) &= 0.95 \\\\\n",
        "P(\\frac{q_{0.05}}{Y} \\leq λ < \\infty) &= 0.95 \\\\\n",
        "\\Rightarrow CI_{0.95} = [\\frac{q_{0.05}}{Y}, \\infty] \\\\\n",
        "\\end{align}\n",
        "$$\n"
      ]
    },
    {
      "cell_type": "code",
      "metadata": {
        "id": "GD68f_fQdp_W",
        "colab_type": "code",
        "outputId": "15f377c5-2075-4757-a007-d3274169843a",
        "colab": {
          "base_uri": "https://localhost:8080/",
          "height": 51
        }
      },
      "source": [
        "print(\"Observed 95% confidence interval\")\n",
        "q <- qgamma(0.05, shape=10, rate = 1)\n",
        "print(c(q/5, Inf))"
      ],
      "execution_count": 0,
      "outputs": [
        {
          "output_type": "stream",
          "text": [
            "[1] \"Observed 95% confidence interval\"\n",
            "[1] 1.085081      Inf\n"
          ],
          "name": "stdout"
        }
      ]
    },
    {
      "cell_type": "markdown",
      "metadata": {
        "id": "L7Hp790hfoin",
        "colab_type": "text"
      },
      "source": [
        "## Problem 3.  \n",
        "The number of faults over a period of time was collected for a sample of 100 datatransmission lines. We want to test if the data come from a Poisson distribution.  \n",
        "number of faults 0 1 2 3 4 5 > 5  \n",
        "number of lines 38 30 16 9 5 2 0  \n",
        "(a) Assuming the number of faults for a data-transmission line, Yi\n",
        ", i = 1, . . . , 100,\n",
        "follows a Poisson distribution with parameter λ, find the maximum likelihood\n",
        "estimate of λ for these data.  \n",
        "\n",
        "Let $y = (y_1, \\dots, y_{100})$  \n",
        "Maximum Likelihood function:  \n",
        "$$\n",
        "\\begin{align}\n",
        "\\mathcal{L}(y) &= \\prod_{i=1}^{100} f_{Y_i}(y_i) \\\\\n",
        "&= \\prod_{i=1}^{100} \\frac{\\lambda^{y_i} e^{-\\lambda}}{y_i!} \\\\\n",
        "&= C \\lambda^{\\sum_{i=1}^{100}y_i} e^{-100\\lambda} \\quad \\bigg(C = \\prod_{i=1}^{100} \\frac{1}{y_i!}\\bigg) \\\\\n",
        "ln \\mathcal{L}(y) &= lnC + \\sum_{i=1}^{100}y_i ln\\lambda - 100\\lambda \\\\\n",
        "\\frac{d ln \\mathcal{L}(y)}{d\\lambda} &= \\sum_{i=1}^{100}y_i \\frac{1}{\\lambda} - 100 \\stackrel{set}{=} 0 \\\\\n",
        "\\Rightarrow \\lambda &= \\frac{1}{100} \\sum_{i=1}^{100}y_i = \\overline{y} \\\\\n",
        "\\end{align}\n",
        "$$\n",
        "$$\n",
        "\\begin{align}\n",
        "\\frac{d^2 ln \\mathcal{L}(y)}{(d\\lambda)^2} &= -\\frac{1}{\\lambda^2} \\sum_{i=1}^{100}y_i < 0 \\\\\n",
        "\\end{align}\n",
        "$$\n",
        "**Estimator for λ**  \n",
        "$$\n",
        "\\begin{align}\n",
        "\\hat{\\Lambda} &= \\frac{1}{100} \\sum_{i=1}^{100}Y_i = \\overline{Y} \\\\\n",
        "\\end{align}\n",
        "$$\n"
      ]
    },
    {
      "cell_type": "code",
      "metadata": {
        "id": "cUbezXlIfzCQ",
        "colab_type": "code",
        "outputId": "c0a6072d-d607-47b2-c5ab-bb3cc55aca82",
        "colab": {
          "base_uri": "https://localhost:8080/",
          "height": 51
        }
      },
      "source": [
        "faults <- c(0, 1, 2, 3, 4, 5, Inf) # Inf represents > 5\n",
        "counts <- c(38, 30, 16, 9, 5, 2, 0)\n",
        "print(\"Estimate of λ\")\n",
        "lambda <- weighted.mean(faults, counts)\n",
        "print(lambda)"
      ],
      "execution_count": 0,
      "outputs": [
        {
          "output_type": "stream",
          "text": [
            "[1] \"Estimate of λ\"\n",
            "[1] 1.19\n"
          ],
          "name": "stdout"
        }
      ]
    },
    {
      "cell_type": "markdown",
      "metadata": {
        "id": "jXkz7WdpfzPZ",
        "colab_type": "text"
      },
      "source": [
        "(b) Test the hypothesis that the number of faults for a data-transmission line follows\n",
        "a Poisson distribution using the chi-squared test. Do we reject the null hypothesis\n",
        "at the 5% significance level? Hint: You should combine the observed data into\n",
        "several groups such that expected frequencies are greater or equal to 5 for each\n",
        "group.  \n",
        "\n",
        "Raw expected frequencies $np_{Y_i}(k), k = 0, 1, 2, \\dots$  \n"
      ]
    },
    {
      "cell_type": "code",
      "metadata": {
        "id": "L31aQ_tpf1hl",
        "colab_type": "code",
        "outputId": "a2415f0d-1032-4446-b4ee-79cccb2dded2",
        "colab": {
          "base_uri": "https://localhost:8080/",
          "height": 34
        }
      },
      "source": [
        "n <- 100 # sample size\n",
        "print(n * dpois(0:5, lambda = lambda))"
      ],
      "execution_count": 0,
      "outputs": [
        {
          "output_type": "stream",
          "text": [
            "[1] 30.4221264 36.2023304 21.5403866  8.5443534  2.5419451  0.6049829\n"
          ],
          "name": "stdout"
        }
      ]
    },
    {
      "cell_type": "markdown",
      "metadata": {
        "id": "glMIhLy0hOjv",
        "colab_type": "text"
      },
      "source": [
        "Groups (with expected frequencies greater or equal to 5)  \n"
      ]
    },
    {
      "cell_type": "code",
      "metadata": {
        "id": "F-oOQmFGhQ4E",
        "colab_type": "code",
        "outputId": "ce53f912-dbca-46b0-f576-564402d15d4a",
        "colab": {
          "base_uri": "https://localhost:8080/",
          "height": 51
        }
      },
      "source": [
        "sep <- 3 # number of points that remain separate\n",
        "\n",
        "groups <- c(faults[1:sep], Inf) # Inf represents the remaining values of faults (upper tail)\n",
        "print(groups)\n",
        "\n",
        "observed <- c(counts[1:sep], sum(counts[-(1:sep)])) # few first counts remain separate, remaining counts are summed up\n",
        "print(observed)"
      ],
      "execution_count": 0,
      "outputs": [
        {
          "output_type": "stream",
          "text": [
            "[1]   0   1   2 Inf\n",
            "[1] 38 30 16 16\n"
          ],
          "name": "stdout"
        }
      ]
    },
    {
      "cell_type": "markdown",
      "metadata": {
        "id": "qVEEk8UShpme",
        "colab_type": "text"
      },
      "source": [
        "Chi-squared test:  \n"
      ]
    },
    {
      "cell_type": "code",
      "metadata": {
        "id": "FV-C2Gn_hrj0",
        "colab_type": "code",
        "outputId": "2e088e5d-9d8e-4622-bd41-cbf3cd9023c5",
        "colab": {
          "base_uri": "https://localhost:8080/",
          "height": 221
        }
      },
      "source": [
        "print(\"Probability distribution\")\n",
        "pmfs <- c(dpois(faults[1:sep], lambda = lambda), ppois(faults[sep], lambda = lambda, lower.tail = FALSE))\n",
        "print(pmfs)\n",
        "\n",
        "print(\"Expected frequencies >= 5?\")\n",
        "expected <- n * pmfs\n",
        "print(all(expected >= 5))\n",
        "\n",
        "print(\"Degrees of freedom\")\n",
        "df <- (length(groups) - 1) - (1)\n",
        "print(df)\n",
        "\n",
        "print(\"Chi-squared statistic\")\n",
        "chi_stat <- sum((observed-expected)^2 / expected)\n",
        "print(chi_stat)\n",
        "\n",
        "print(\"p-value\")\n",
        "p_val <- pchisq(chi_stat, df = df, lower.tail = FALSE)\n",
        "print(p_val)\n",
        "\n",
        "print(\"Reject the null hypothesis at the 5% significance level?\")\n",
        "print(p_val < 0.05)"
      ],
      "execution_count": 0,
      "outputs": [
        {
          "output_type": "stream",
          "text": [
            "[1] \"Probability distribution\"\n",
            "[1] 0.3042213 0.3620233 0.2154039 0.1183516\n",
            "[1] \"Expected frequencies >= 5?\"\n",
            "[1] TRUE\n",
            "[1] \"Degrees of freedom\"\n",
            "[1] 2\n",
            "[1] \"Chi-squared statistic\"\n",
            "[1] 5.840853\n",
            "[1] \"p-value\"\n",
            "[1] 0.05391069\n",
            "[1] \"Reject the null hypothesis at the 5% significance level?\"\n",
            "[1] FALSE\n"
          ],
          "name": "stdout"
        }
      ]
    }
  ]
}