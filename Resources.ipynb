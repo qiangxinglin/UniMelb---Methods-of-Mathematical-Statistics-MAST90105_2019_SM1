{
  "nbformat": 4,
  "nbformat_minor": 0,
  "metadata": {
    "colab": {
      "name": "Resources.ipynb",
      "version": "0.3.2",
      "provenance": [],
      "include_colab_link": true
    },
    "kernelspec": {
      "name": "python3",
      "display_name": "Python 3"
    },
    "accelerator": "GPU"
  },
  "cells": [
    {
      "cell_type": "markdown",
      "metadata": {
        "id": "view-in-github",
        "colab_type": "text"
      },
      "source": [
        "<a href=\"https://colab.research.google.com/github/Data-Science-and-Data-Analytics-Courses/UniMelb---Methods-of-Mathematical-Statistics-MAST90105_2019_SM1/blob/master/Resources.ipynb\" target=\"_parent\"><img src=\"https://colab.research.google.com/assets/colab-badge.svg\" alt=\"Open In Colab\"/></a>"
      ]
    },
    {
      "metadata": {
        "colab_type": "text",
        "id": "UdDQ4H0VmPpJ"
      },
      "cell_type": "markdown",
      "source": [
        "# Clone remote"
      ]
    },
    {
      "metadata": {
        "colab_type": "code",
        "id": "cXqTKogHXEr9",
        "outputId": "75624168-a110-4929-d782-7983864f6db8",
        "colab": {
          "base_uri": "https://localhost:8080/",
          "height": 258
        }
      },
      "cell_type": "code",
      "source": [
        "import os, sys\n",
        "from google.colab import drive\n",
        "from urllib.parse import urlsplit\n",
        "from pathlib import Path\n",
        "\n",
        "URL = \"https://github.com/Data-Science-and-Data-Analytics-Courses/UniMelb---Methods-of-Mathematical-Statistics-MAST90105_2019_SM1\"\n",
        "nbdir_rel = \"\"\n",
        "DRIVE = Path(\"/drive\", \"My Drive\")\n",
        "\n",
        "def clone(url, dest=\".\", name=\"\", options=\"--single-branch -b master\", reloc=True):\n",
        "  \"\"\"\n",
        "  Clone url into dest\n",
        "  name: if provided, rename repository\n",
        "  options: supported by git-clone (https://git-scm.com/docs/git-clone)\n",
        "  reloc: if True, relocate to repository\n",
        "  \"\"\"\n",
        "\n",
        "  rurl = urlsplit(url)\n",
        "  dest = Path(dest).resolve()\n",
        "  repo = dest / (name or Path(rurl.path).name)\n",
        "\n",
        "  # Nested repositories not allowed\n",
        "  out = !git -C \"{dest}\" rev-parse\n",
        "  if not out: # inside repository\n",
        "    raise ValueError(\"Can't clone into existing repository\")\n",
        "  \n",
        "  # Clone\n",
        "  !git clone {options} \"{rurl.geturl()}\" \"{repo}\"\n",
        "  \n",
        "  # Relocate\n",
        "  if reloc:\n",
        "    os.chdir(repo)\n",
        "\n",
        "  return repo\n",
        "  \n",
        "REPO = clone(URL)\n",
        "drive.mount(DRIVE.parent.as_posix())\n",
        "NBDIR = REPO / nbdir_rel\n",
        "%cd \"{NBDIR}\""
      ],
      "execution_count": 1,
      "outputs": [
        {
          "output_type": "stream",
          "text": [
            "Cloning into '/content/UniMelb---Methods-of-Mathematical-Statistics-MAST90105_2019_SM1'...\n",
            "remote: Enumerating objects: 120, done.\u001b[K\n",
            "remote: Counting objects: 100% (120/120), done.\u001b[K\n",
            "remote: Compressing objects: 100% (72/72), done.\u001b[K\n",
            "remote: Total 347 (delta 61), reused 99 (delta 48), pack-reused 227\u001b[K\n",
            "Receiving objects: 100% (347/347), 8.87 MiB | 24.16 MiB/s, done.\n",
            "Resolving deltas: 100% (174/174), done.\n",
            "Go to this URL in a browser: https://accounts.google.com/o/oauth2/auth?client_id=947318989803-6bn6qk8qdgf4n4g3pfee6491hc0brc4i.apps.googleusercontent.com&redirect_uri=urn%3Aietf%3Awg%3Aoauth%3A2.0%3Aoob&scope=email%20https%3A%2F%2Fwww.googleapis.com%2Fauth%2Fdocs.test%20https%3A%2F%2Fwww.googleapis.com%2Fauth%2Fdrive%20https%3A%2F%2Fwww.googleapis.com%2Fauth%2Fdrive.photos.readonly%20https%3A%2F%2Fwww.googleapis.com%2Fauth%2Fpeopleapi.readonly&response_type=code\n",
            "\n",
            "Enter your authorization code:\n",
            "··········\n",
            "Mounted at /drive\n",
            "/content\n"
          ],
          "name": "stdout"
        }
      ]
    },
    {
      "metadata": {
        "id": "fRrOetKsg-RC",
        "colab_type": "text"
      },
      "cell_type": "markdown",
      "source": [
        "# Import libraries"
      ]
    },
    {
      "metadata": {
        "id": "XfwrINzwdmkn",
        "colab_type": "code",
        "outputId": "1354011a-ebb6-4d79-9036-7debc4276e38",
        "colab": {
          "base_uri": "https://localhost:8080/",
          "height": 51
        }
      },
      "cell_type": "code",
      "source": [
        "%run \"{REPO/'Packages'/'.Importable.ipynb'}\"\n",
        "sys.path.append(REPO.as_posix())\n",
        "\n",
        "from Packages import Git, Files"
      ],
      "execution_count": 2,
      "outputs": [
        {
          "output_type": "display_data",
          "data": {
            "text/html": [
              "\n",
              "<style type='text/css'>\n",
              ".hll { background-color: #ffffcc }\n",
              ".c { color: #408080; font-style: italic } /* Comment */\n",
              ".err { border: 1px solid #FF0000 } /* Error */\n",
              ".k { color: #008000; font-weight: bold } /* Keyword */\n",
              ".o { color: #666666 } /* Operator */\n",
              ".ch { color: #408080; font-style: italic } /* Comment.Hashbang */\n",
              ".cm { color: #408080; font-style: italic } /* Comment.Multiline */\n",
              ".cp { color: #BC7A00 } /* Comment.Preproc */\n",
              ".cpf { color: #408080; font-style: italic } /* Comment.PreprocFile */\n",
              ".c1 { color: #408080; font-style: italic } /* Comment.Single */\n",
              ".cs { color: #408080; font-style: italic } /* Comment.Special */\n",
              ".gd { color: #A00000 } /* Generic.Deleted */\n",
              ".ge { font-style: italic } /* Generic.Emph */\n",
              ".gr { color: #FF0000 } /* Generic.Error */\n",
              ".gh { color: #000080; font-weight: bold } /* Generic.Heading */\n",
              ".gi { color: #00A000 } /* Generic.Inserted */\n",
              ".go { color: #888888 } /* Generic.Output */\n",
              ".gp { color: #000080; font-weight: bold } /* Generic.Prompt */\n",
              ".gs { font-weight: bold } /* Generic.Strong */\n",
              ".gu { color: #800080; font-weight: bold } /* Generic.Subheading */\n",
              ".gt { color: #0044DD } /* Generic.Traceback */\n",
              ".kc { color: #008000; font-weight: bold } /* Keyword.Constant */\n",
              ".kd { color: #008000; font-weight: bold } /* Keyword.Declaration */\n",
              ".kn { color: #008000; font-weight: bold } /* Keyword.Namespace */\n",
              ".kp { color: #008000 } /* Keyword.Pseudo */\n",
              ".kr { color: #008000; font-weight: bold } /* Keyword.Reserved */\n",
              ".kt { color: #B00040 } /* Keyword.Type */\n",
              ".m { color: #666666 } /* Literal.Number */\n",
              ".s { color: #BA2121 } /* Literal.String */\n",
              ".na { color: #7D9029 } /* Name.Attribute */\n",
              ".nb { color: #008000 } /* Name.Builtin */\n",
              ".nc { color: #0000FF; font-weight: bold } /* Name.Class */\n",
              ".no { color: #880000 } /* Name.Constant */\n",
              ".nd { color: #AA22FF } /* Name.Decorator */\n",
              ".ni { color: #999999; font-weight: bold } /* Name.Entity */\n",
              ".ne { color: #D2413A; font-weight: bold } /* Name.Exception */\n",
              ".nf { color: #0000FF } /* Name.Function */\n",
              ".nl { color: #A0A000 } /* Name.Label */\n",
              ".nn { color: #0000FF; font-weight: bold } /* Name.Namespace */\n",
              ".nt { color: #008000; font-weight: bold } /* Name.Tag */\n",
              ".nv { color: #19177C } /* Name.Variable */\n",
              ".ow { color: #AA22FF; font-weight: bold } /* Operator.Word */\n",
              ".w { color: #bbbbbb } /* Text.Whitespace */\n",
              ".mb { color: #666666 } /* Literal.Number.Bin */\n",
              ".mf { color: #666666 } /* Literal.Number.Float */\n",
              ".mh { color: #666666 } /* Literal.Number.Hex */\n",
              ".mi { color: #666666 } /* Literal.Number.Integer */\n",
              ".mo { color: #666666 } /* Literal.Number.Oct */\n",
              ".sb { color: #BA2121 } /* Literal.String.Backtick */\n",
              ".sc { color: #BA2121 } /* Literal.String.Char */\n",
              ".sd { color: #BA2121; font-style: italic } /* Literal.String.Doc */\n",
              ".s2 { color: #BA2121 } /* Literal.String.Double */\n",
              ".se { color: #BB6622; font-weight: bold } /* Literal.String.Escape */\n",
              ".sh { color: #BA2121 } /* Literal.String.Heredoc */\n",
              ".si { color: #BB6688; font-weight: bold } /* Literal.String.Interpol */\n",
              ".sx { color: #008000 } /* Literal.String.Other */\n",
              ".sr { color: #BB6688 } /* Literal.String.Regex */\n",
              ".s1 { color: #BA2121 } /* Literal.String.Single */\n",
              ".ss { color: #19177C } /* Literal.String.Symbol */\n",
              ".bp { color: #008000 } /* Name.Builtin.Pseudo */\n",
              ".vc { color: #19177C } /* Name.Variable.Class */\n",
              ".vg { color: #19177C } /* Name.Variable.Global */\n",
              ".vi { color: #19177C } /* Name.Variable.Instance */\n",
              ".il { color: #666666 } /* Literal.Number.Integer.Long */\n",
              "</style>\n"
            ],
            "text/plain": [
              "<IPython.core.display.HTML object>"
            ]
          },
          "metadata": {
            "tags": []
          }
        },
        {
          "output_type": "stream",
          "text": [
            "importing Jupyter notebook from /content/UniMelb---Methods-of-Mathematical-Statistics-MAST90105_2019_SM1/Packages/Git.ipynb\n",
            "importing Jupyter notebook from /content/UniMelb---Methods-of-Mathematical-Statistics-MAST90105_2019_SM1/Packages/Files.ipynb\n"
          ],
          "name": "stdout"
        }
      ]
    },
    {
      "metadata": {
        "colab_type": "text",
        "id": "5sl8tFrDP67Z"
      },
      "cell_type": "markdown",
      "source": [
        "# Download"
      ]
    },
    {
      "metadata": {
        "id": "oknoyNQHF1nB",
        "colab_type": "code",
        "colab": {}
      },
      "cell_type": "code",
      "source": [
        "authfile_uni = DRIVE / \"UniMelb Student\" / \"login.json\" # path to UniMelb authentication file"
      ],
      "execution_count": 0,
      "outputs": []
    },
    {
      "metadata": {
        "id": "ORA_qxjTnZKg",
        "colab_type": "text"
      },
      "cell_type": "markdown",
      "source": [
        "## Module 1 Probability"
      ]
    },
    {
      "metadata": {
        "id": "4gWwsdjJnpok",
        "colab_type": "code",
        "colab": {}
      },
      "cell_type": "code",
      "source": [
        "urls = {\"Module1-LMS.pdf\": \"https://app.lms.unimelb.edu.au/bbcswebdav/pid-6962953-dt-content-rid-59198647_2/courses/MAST90105_2019_SM1/Module1-LMS.pdf\",\n",
        "        \"LabWorkshopWeek1.pdf\": \"https://app.lms.unimelb.edu.au/bbcswebdav/pid-6962841-dt-content-rid-46074306_2/courses/MAST90105_2019_SM1/LabsWorkshops/LabWorkshopWeek1.pdf\",\n",
        "        \"WorkshopWeek1Solutions.pdf\": \"https://app.lms.unimelb.edu.au/bbcswebdav/pid-6962842-dt-content-rid-46074346_2/courses/MAST90105_2019_SM1/LabsWorkshops/WorkshopWeek1Solutions.pdf\"}\n",
        "dest = \"Module 1 Probability\"\n",
        "for name, url in urls.items():\n",
        "  Files.download2(url, dest=dest, name=name, authfile=authfile_uni)"
      ],
      "execution_count": 0,
      "outputs": []
    },
    {
      "metadata": {
        "colab_type": "text",
        "id": "ME1QvAuBN0Tc"
      },
      "cell_type": "markdown",
      "source": [
        "## Module 2 Discrete Distributions"
      ]
    },
    {
      "metadata": {
        "colab_type": "code",
        "id": "rlGx8aeNN0Tm",
        "colab": {}
      },
      "cell_type": "code",
      "source": [
        "urls = {\"Module2_LMS.pdf\": \"https://app.lms.unimelb.edu.au/bbcswebdav/pid-6962954-dt-content-rid-59224704_2/courses/MAST90105_2019_SM1/Module2_LMS.pdf\",\n",
        "        \"LabWorkshopWeek2.pdf\": \"https://app.lms.unimelb.edu.au/bbcswebdav/pid-6962843-dt-content-rid-59224706_2/courses/MAST90105_2019_SM1/LabWorkshopWeek2.pdf\",\n",
        "        \"LabWorkshopWeek2Solutions.pdf\": \"https://app.lms.unimelb.edu.au/bbcswebdav/pid-6962844-dt-content-rid-59548371_2/courses/MAST90105_2019_SM1/LabWorkshopWeek2Solutions.pdf\"}\n",
        "dest = \"Module 2 Discrete Distributions\"\n",
        "for name, url in urls.items():\n",
        "  Files.download2(url, dest=dest, name=name, authfile=authfile_uni)"
      ],
      "execution_count": 0,
      "outputs": []
    },
    {
      "metadata": {
        "colab_type": "text",
        "id": "YkaxcVq6D04Y"
      },
      "cell_type": "markdown",
      "source": [
        "## Module 3 Continuous Distributions"
      ]
    },
    {
      "metadata": {
        "colab_type": "code",
        "id": "TTzAsTpTD04a",
        "colab": {}
      },
      "cell_type": "code",
      "source": [
        "urls = {\"Module3_LMS.pdf\": \"https://app.lms.unimelb.edu.au/bbcswebdav/pid-6962955-dt-content-rid-46074355_2/courses/MAST90105_2019_SM1/Lectures/Module3_LMS.pdf\",\n",
        "        \"MGFs.pdf\": \"https://app.lms.unimelb.edu.au/bbcswebdav/pid-7420401-dt-content-rid-59643340_2/courses/MAST90105_2019_SM1/MGFs.pdf\",\n",
        "        \"LabWorkshopWeek3Paper.pdf\": \"https://app.lms.unimelb.edu.au/bbcswebdav/pid-6962845-dt-content-rid-46074325_2/courses/MAST90105_2019_SM1/LabsWorkshops/LabWorkshopWeek3Paper.pdf\",\n",
        "        \"LabWorkshopWeek3Solutions.pdf\": \"https://app.lms.unimelb.edu.au/bbcswebdav/pid-6962846-dt-content-rid-46074327_2/courses/MAST90105_2019_SM1/LabsWorkshops/LabWorkshopWeek3Solutions.pdf\"}\n",
        "dest = \"Module 3 Continuous Distributions\"\n",
        "for name, url in urls.items():\n",
        "  Files.download2(url, dest=dest, name=name, authfile=authfile_uni)"
      ],
      "execution_count": 0,
      "outputs": []
    },
    {
      "metadata": {
        "colab_type": "text",
        "id": "AcS31GnGBmxI"
      },
      "cell_type": "markdown",
      "source": [
        "## Module 4 Bivariate Distributions"
      ]
    },
    {
      "metadata": {
        "colab_type": "code",
        "id": "wiCs14hFBmxK",
        "colab": {}
      },
      "cell_type": "code",
      "source": [
        "urls = {\"Module4_LMS.pdf\": \"https://app.lms.unimelb.edu.au/bbcswebdav/pid-6962956-dt-content-rid-46074356_2/courses/MAST90105_2019_SM1/Lectures/Module4_LMS.pdf\",\n",
        "        \"LabWorkshopWeek4Paper.pdf\": \"https://app.lms.unimelb.edu.au/bbcswebdav/pid-6962847-dt-content-rid-46072412_2/courses/MAST90105_2019_SM1/LabWorkshopWeek4Paper.pdf\",\n",
        "        \"LabWorkshopWeek4Solutions.pdf\": \"https://app.lms.unimelb.edu.au/bbcswebdav/pid-6962849-dt-content-rid-46074329_2/courses/MAST90105_2019_SM1/LabsWorkshops/LabWorkshopWeek4Solutions.pdf\"}\n",
        "dest = \"Module 4 Bivariate Distributions\"\n",
        "for name, url in urls.items():\n",
        "  Files.download2(url, dest=dest, name=name, authfile=authfile_uni)"
      ],
      "execution_count": 0,
      "outputs": []
    },
    {
      "metadata": {
        "colab_type": "text",
        "id": "iFGOhw9kww9G"
      },
      "cell_type": "markdown",
      "source": [
        "## Module 5 Distributions of Functions of Random Variables"
      ]
    },
    {
      "metadata": {
        "colab_type": "code",
        "id": "y7mWeff3ww9H",
        "colab": {}
      },
      "cell_type": "code",
      "source": [
        "urls = {\"Module5_LMS.pdf\": \"https://app.lms.unimelb.edu.au/bbcswebdav/pid-6962957-dt-content-rid-46074357_2/courses/MAST90105_2019_SM1/Lectures/Module5_LMS.pdf\",\n",
        "        \"cdf_pdf.pdf\": \"https://app.lms.unimelb.edu.au/bbcswebdav/pid-7429900-dt-content-rid-59751386_2/courses/MAST90105_2019_SM1/cdf_pdf.pdf\",\n",
        "        \"biv_normal.pdf\": \"https://app.lms.unimelb.edu.au/bbcswebdav/pid-7437713-dt-content-rid-59855820_2/courses/MAST90105_2019_SM1/biv_normal.pdf\",\n",
        "        \"LabWorkshopWeek5Paper.pdf\": \"https://app.lms.unimelb.edu.au/bbcswebdav/pid-6962850-dt-content-rid-46074330_2/courses/MAST90105_2019_SM1/LabsWorkshops/LabWorkshopWeek5Paper.pdf\",\n",
        "        \"LabWorkshopWeek5Solutions.pdf\": \"https://app.lms.unimelb.edu.au/bbcswebdav/pid-6962852-dt-content-rid-46074331_2/courses/MAST90105_2019_SM1/LabsWorkshops/LabWorkshopWeek5Solutions.pdf\",\n",
        "        \"LabWorkshopWeek6Paper.pdf\": \"https://app.lms.unimelb.edu.au/bbcswebdav/pid-6962853-dt-content-rid-46074332_2/courses/MAST90105_2019_SM1/LabsWorkshops/LabWorkshopWeek6Paper.pdf\",\n",
        "        \"LabWorkshopWeek6Solutions.pdf\": \"https://app.lms.unimelb.edu.au/bbcswebdav/pid-6962855-dt-content-rid-46074335_2/courses/MAST90105_2019_SM1/LabsWorkshops/LabWorkshopWeek6Solutions.pdf\"}\n",
        "dest = \"Module 5 Distributions of Functions of Random Variables\"\n",
        "for name, url in urls.items():\n",
        "  Files.download2(url, dest=dest, name=name, authfile=authfile_uni)"
      ],
      "execution_count": 0,
      "outputs": []
    },
    {
      "metadata": {
        "colab_type": "text",
        "id": "-HtFUzpnDTlD"
      },
      "cell_type": "markdown",
      "source": [
        "## Assignment 1"
      ]
    },
    {
      "metadata": {
        "colab_type": "code",
        "id": "neQmyV3qDTlE",
        "colab": {}
      },
      "cell_type": "code",
      "source": [
        "urls = {\"Assignment1.pdf\": \"https://app.lms.unimelb.edu.au/bbcswebdav/pid-6962876-dt-content-rid-57713630_2/courses/MAST90105_2019_SM1/Assignment1.pdf\"}\n",
        "dest = \"Assignment 1\"\n",
        "for name, url in urls.items():\n",
        "  Files.download2(url, dest=dest, name=name, authfile=authfile_uni)"
      ],
      "execution_count": 0,
      "outputs": []
    },
    {
      "metadata": {
        "colab_type": "text",
        "id": "NOKUS8CzECHT"
      },
      "cell_type": "markdown",
      "source": [
        "## Assignment 2"
      ]
    },
    {
      "metadata": {
        "colab_type": "code",
        "id": "FU_pyIZKECHT",
        "colab": {}
      },
      "cell_type": "code",
      "source": [
        "urls = {\"Assignment2.pdf\": \"https://app.lms.unimelb.edu.au/bbcswebdav/pid-6962878-dt-content-rid-46072420_2/courses/MAST90105_2019_SM1/Assignments/Assignment2.pdf\",\n",
        "        \"Assignment2_Sol.pdf\": \"https://app.lms.unimelb.edu.au/bbcswebdav/pid-7414105-dt-content-rid-59578979_2/courses/MAST90105_2019_SM1/Assignment2_Sol.pdf\"}\n",
        "dest = \"Assignment 2\"\n",
        "for name, url in urls.items():\n",
        "  Files.download2(url, dest=dest, name=name, authfile=authfile_uni)"
      ],
      "execution_count": 0,
      "outputs": []
    },
    {
      "metadata": {
        "colab_type": "text",
        "id": "GFYmZk2eaU3D"
      },
      "cell_type": "markdown",
      "source": [
        "## Exam"
      ]
    },
    {
      "metadata": {
        "colab_type": "code",
        "id": "eRD6Efx2aU3E",
        "colab": {}
      },
      "cell_type": "code",
      "source": [
        "urls = {\"SampleExam1.pdf\": \"https://app.lms.unimelb.edu.au/bbcswebdav/pid-6962881-dt-content-rid-46072442_2/courses/MAST90105_2019_SM1/Assignments/SampleExam1.pdf\",\n",
        "        \"SampleExam1Solutions.pdf\": \"https://app.lms.unimelb.edu.au/bbcswebdav/pid-6962884-dt-content-rid-46072444_2/courses/MAST90105_2019_SM1/Assignments/SampleExam1Solutions.pdf\"}\n",
        "dest = \"Exam\"\n",
        "for name, url in urls.items():\n",
        "  Files.download2(url, dest=dest, name=name, authfile=authfile_uni)"
      ],
      "execution_count": 0,
      "outputs": []
    },
    {
      "metadata": {
        "id": "7ILM4JyuLzue",
        "colab_type": "text"
      },
      "cell_type": "markdown",
      "source": [
        "# Push repository"
      ]
    },
    {
      "metadata": {
        "id": "IctLlekpKkaO",
        "colab_type": "code",
        "colab": {}
      },
      "cell_type": "code",
      "source": [
        "confile_git = DRIVE.joinpath(\"GitHub/config.json\") # path to GitHub configuration file\n",
        "authfile_git = DRIVE.joinpath(\"GitHub/login.json\") # path to GitHub authentication file"
      ],
      "execution_count": 0,
      "outputs": []
    },
    {
      "metadata": {
        "id": "RqifDMhBglwC",
        "colab_type": "code",
        "outputId": "d8a224e5-f66c-45a6-ea6e-8fd076a5b7fd",
        "colab": {
          "base_uri": "https://localhost:8080/",
          "height": 221
        }
      },
      "cell_type": "code",
      "source": [
        "message = \"Update Module 5\"\n",
        "\n",
        "# Configure\n",
        "Git.config(confile=confile_git)\n",
        "\n",
        "# Track\n",
        "!git add -A\n",
        "\n",
        "# Commit\n",
        "!git commit -m \"{message}\"\n",
        "\n",
        "# Push\n",
        "Git.push(URL, authfile=authfile_git)"
      ],
      "execution_count": 10,
      "outputs": [
        {
          "output_type": "stream",
          "text": [
            "[master bb435cf] Update Module 5\n",
            " 2 files changed, 0 insertions(+), 0 deletions(-)\n",
            " create mode 100644 Module 5 Distributions of Functions of Random Variables/LabWorkshopWeek6Paper.pdf\n",
            " create mode 100644 Module 5 Distributions of Functions of Random Variables/LabWorkshopWeek6Solutions.pdf\n",
            "Counting objects: 5, done.\n",
            "Delta compression using up to 2 threads.\n",
            "Compressing objects: 100% (5/5), done.\n",
            "Writing objects: 100% (5/5), 435.11 KiB | 17.40 MiB/s, done.\n",
            "Total 5 (delta 2), reused 0 (delta 0)\n",
            "remote: Resolving deltas: 100% (2/2), completed with 2 local objects.\u001b[K\n",
            "To https://github.com/Data-Science-and-Data-Analytics-Courses/UniMelb---Methods-of-Mathematical-Statistics-MAST90105_2019_SM1\n",
            "   b438303..bb435cf  HEAD -> master\n"
          ],
          "name": "stdout"
        }
      ]
    }
  ]
}